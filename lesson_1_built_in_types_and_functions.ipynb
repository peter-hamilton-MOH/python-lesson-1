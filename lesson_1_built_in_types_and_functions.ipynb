{
 "cells": [
  {
   "cell_type": "code",
   "execution_count": null,
   "id": "8033359e",
   "metadata": {
    "slideshow": {
     "slide_type": "skip"
    }
   },
   "outputs": [],
   "source": [
    "# NOTE: This is setup code for the slide presentation, please ignore.\n",
    "\n",
    "from IPython.core.display import HTML\n",
    "table_css = 'td {text-align: left !important;} th {text-align: left !important;} '\n",
    "HTML('<style>{}</style>'.format(table_css))"
   ]
  },
  {
   "cell_type": "markdown",
   "id": "96a65ac7",
   "metadata": {
    "slideshow": {
     "slide_type": "slide"
    }
   },
   "source": [
    "<center><h2>Preface</h2></center>"
   ]
  },
  {
   "cell_type": "markdown",
   "id": "bde5c896",
   "metadata": {
    "slideshow": {
     "slide_type": "slide"
    }
   },
   "source": [
    "#### Why Python?"
   ]
  },
  {
   "cell_type": "markdown",
   "id": "31ceb3b7",
   "metadata": {
    "slideshow": {
     "slide_type": "slide"
    }
   },
   "source": [
    "1. **Rich Ecosystem:** NumPy, pandas, Matplotlib, Seaborn, scikit-learn, PyTorch, Hugging Face, research papers, etc.\n",
    "\n",
    "2. **Ease of Learning:** Data scientists can quickly learn and apply Python to their work.\n",
    "\n",
    "3. **Community Support:** There are plenty of resources, tutorials, and forums available for help and collaboration.\n",
    "\n",
    "4. **Versatility:** Python is a general-purpose programming language, which means that you can use it for a wide range of tasks, not just data science.\n",
    "\n",
    "5. **Language of Deep Learning:** Great for using and building deep learning models.\n",
    "\n",
    "6. **Open Source:** Free and will hopefully stand the test of time."
   ]
  },
  {
   "cell_type": "markdown",
   "id": "7d9b294e",
   "metadata": {
    "slideshow": {
     "slide_type": "slide"
    }
   },
   "source": [
    "<center><img src=\"./illustration_pngs/linux_mars.png\" width=\"100%\" /></center>"
   ]
  },
  {
   "cell_type": "markdown",
   "id": "dfe26da3",
   "metadata": {
    "slideshow": {
     "slide_type": "slide"
    }
   },
   "source": [
    "<center><img src=\"./illustration_pngs/anaconda.png\" width=\"100%\" /></center>"
   ]
  },
  {
   "cell_type": "markdown",
   "id": "9d269aa2",
   "metadata": {
    "slideshow": {
     "slide_type": "slide"
    }
   },
   "source": [
    "#### Logging"
   ]
  },
  {
   "cell_type": "code",
   "execution_count": null,
   "id": "defe178f",
   "metadata": {
    "slideshow": {
     "slide_type": "fragment"
    }
   },
   "outputs": [],
   "source": [
    "print('hello world!')\n",
    "print(123)\n",
    "print([4,5,6])"
   ]
  },
  {
   "cell_type": "code",
   "execution_count": null,
   "id": "798d9072",
   "metadata": {
    "slideshow": {
     "slide_type": "fragment"
    }
   },
   "outputs": [],
   "source": [
    "'will this line get printed?'\n",
    "'or this one?'"
   ]
  },
  {
   "cell_type": "markdown",
   "id": "c4c48b41",
   "metadata": {
    "slideshow": {
     "slide_type": "slide"
    }
   },
   "source": [
    "#### Comments"
   ]
  },
  {
   "cell_type": "code",
   "execution_count": null,
   "id": "ceb71a1a",
   "metadata": {
    "slideshow": {
     "slide_type": "fragment"
    }
   },
   "outputs": [],
   "source": [
    "# I am a single line comment\n",
    "\n",
    "#\n",
    "# I am a multi-line comment\n",
    "#\n",
    "\n",
    "\"\"\"\n",
    "I am also a multi-line comment!\n",
    "\"\"\"\n",
    "\n",
    "print('hello 👋') # comments can also appear on the same line as some code!"
   ]
  },
  {
   "cell_type": "markdown",
   "id": "b3b9b655",
   "metadata": {
    "slideshow": {
     "slide_type": "slide"
    }
   },
   "source": [
    "<center><h2>Lesson 1: Built-in Types and Functions</h2></center>"
   ]
  },
  {
   "cell_type": "markdown",
   "id": "a3b22d70",
   "metadata": {
    "slideshow": {
     "slide_type": "slide"
    }
   },
   "source": [
    "<center><h3>Variable assignment</h3></center>"
   ]
  },
  {
   "cell_type": "markdown",
   "id": "d4686164",
   "metadata": {
    "slideshow": {
     "slide_type": "slide"
    }
   },
   "source": [
    "<center><img src=\"./illustration_pngs/python_variable_assignment_revision.png\" width=\"100%\" /></center>"
   ]
  },
  {
   "cell_type": "code",
   "execution_count": null,
   "id": "34b304f2",
   "metadata": {
    "slideshow": {
     "slide_type": "slide"
    }
   },
   "outputs": [],
   "source": [
    "x = 10\n",
    "print(x)\n",
    "x = 'hello world!' # We're assinging it a different value\n",
    "print(x)"
   ]
  },
  {
   "cell_type": "code",
   "execution_count": null,
   "id": "4da284ef",
   "metadata": {
    "slideshow": {
     "slide_type": "slide"
    }
   },
   "outputs": [],
   "source": [
    "del x # The del keyword deletes the variable, del(x) also works\n",
    "print(x)"
   ]
  },
  {
   "cell_type": "code",
   "execution_count": null,
   "id": "bd4afbca",
   "metadata": {
    "slideshow": {
     "slide_type": "slide"
    }
   },
   "outputs": [],
   "source": [
    "# Unpacking multiple values\n",
    "\n",
    "x, y = 10, 20"
   ]
  },
  {
   "cell_type": "code",
   "execution_count": null,
   "id": "5f8eb010",
   "metadata": {
    "slideshow": {
     "slide_type": "slide"
    }
   },
   "outputs": [],
   "source": [
    "# The number of variables name must match the values being assigned or it will throw an error\n",
    "\n",
    "x, y = 1, 2, 3, 4"
   ]
  },
  {
   "cell_type": "code",
   "execution_count": null,
   "id": "c683a0a7",
   "metadata": {
    "slideshow": {
     "slide_type": "slide"
    }
   },
   "outputs": [],
   "source": [
    "# Other types can be unpacked as well\n",
    "\n",
    "x, y = [10, 20]\n",
    "x, y = (10, 20)\n",
    "x, y = {'a': 10, 'b': 20}"
   ]
  },
  {
   "cell_type": "markdown",
   "id": "1f80c6f7",
   "metadata": {
    "slideshow": {
     "slide_type": "slide"
    }
   },
   "source": [
    "**Rules for variables names 📜**\n",
    "- Must start with a letter or the underscore character\n",
    "- Cannot start with a number\n",
    "- Can only contain alpha-numeric characters and underscores (A-z, 0-9, and _ )\n",
    "- Case-sensitive (age, Age and AGE are three different variables)\n",
    "- Cannot be a reserved keyword, ie: *if*, *True*, *for*, etc.\n",
    "\n",
    "**Preferred naming style, in accordance with PEP-8 🖋️**\n",
    "- Snake casing for regular variables, ie: *my_variable_name*\n",
    "- Upper case snake casing for constants, ie: *SPEED_OF_LIGHT*\n",
    "\n",
    "**Warning ⚠️**\n",
    "- Variable names can overwrite built-ins, ie: *print = 100* "
   ]
  },
  {
   "cell_type": "markdown",
   "id": "4b40c7d2",
   "metadata": {
    "slideshow": {
     "slide_type": "slide"
    }
   },
   "source": [
    "<center><h3>Type annotation</h3></center>"
   ]
  },
  {
   "cell_type": "markdown",
   "id": "ef99a263",
   "metadata": {
    "slideshow": {
     "slide_type": "slide"
    }
   },
   "source": [
    "<center><img src=\"./illustration_pngs/python_type_annotation.png\" width=\"100%\" /></center>"
   ]
  },
  {
   "cell_type": "code",
   "execution_count": null,
   "id": "f57b2961",
   "metadata": {
    "slideshow": {
     "slide_type": "slide"
    }
   },
   "outputs": [],
   "source": [
    "# Type annotation is completely optional, but considered a good practice\n",
    "# when writing code that might be re-read, as it helps with documentation.\n",
    "# A rule of thumb is if the type is implied in assignment, annotation isn't needed.\n",
    "# Types are automatically inferred based on what's being assigned to them.\n",
    "\n",
    "x: int = 123\n",
    "print(type(x))"
   ]
  },
  {
   "cell_type": "code",
   "execution_count": null,
   "id": "4e5fe1bb",
   "metadata": {
    "slideshow": {
     "slide_type": "slide"
    }
   },
   "outputs": [],
   "source": [
    "# Note that it's just an annotation, not an enforcement\n",
    "\n",
    "x: str = 123 \n",
    "print(type(x))"
   ]
  },
  {
   "cell_type": "markdown",
   "id": "4a9c7426",
   "metadata": {
    "slideshow": {
     "slide_type": "slide"
    }
   },
   "source": [
    "#### Built-in Types"
   ]
  },
  {
   "cell_type": "code",
   "execution_count": null,
   "id": "d7f0d693",
   "metadata": {
    "slideshow": {
     "slide_type": "fragment"
    }
   },
   "outputs": [],
   "source": [
    "one_hundred: int = 100\n",
    "\n",
    "PI: float = 3.14159\n",
    "    \n",
    "branch_acronym: str = \"HDSB\"\n",
    "\n",
    "is_sky_blue: bool = True\n",
    "    \n",
    "years: list = [1983, 1985, 2018, 2020]\n",
    "\n",
    "english_to_french: dict = {'hello': 'bonjour', 'goodbye': 'au revoir'}\n",
    "    \n",
    "city_info: tuple = ('Toronto', 43.6532, 79.3832)\n",
    "    \n",
    "one_to_three: set = {1,2,3}\n",
    "\n",
    "none: None = None"
   ]
  },
  {
   "cell_type": "markdown",
   "id": "0799aace",
   "metadata": {
    "slideshow": {
     "slide_type": "slide"
    }
   },
   "source": [
    "#### Integers"
   ]
  },
  {
   "cell_type": "code",
   "execution_count": null,
   "id": "3e365be5",
   "metadata": {
    "slideshow": {
     "slide_type": "fragment"
    }
   },
   "outputs": [],
   "source": [
    "# 4 different ways to make the same integer\n",
    "# Any positive or negative integer, no max or min\n",
    "a = 100\n",
    "b: int = 100\n",
    "c = int(100)\n",
    "d: int = int(100)\n",
    "\n",
    "print(f'a: {a} b: {b} c: {c} d: {d}')"
   ]
  },
  {
   "cell_type": "code",
   "execution_count": null,
   "id": "f4df41f0",
   "metadata": {
    "slideshow": {
     "slide_type": "slide"
    }
   },
   "outputs": [],
   "source": [
    "# Optionally you can add underscores to improve readability for large integers\n",
    "\n",
    "one_million = 1_000_000\n",
    "print(one_million)"
   ]
  },
  {
   "cell_type": "markdown",
   "id": "4b2726b1",
   "metadata": {
    "slideshow": {
     "slide_type": "slide"
    }
   },
   "source": [
    "#### Support for Other Numeral Systems"
   ]
  },
  {
   "cell_type": "code",
   "execution_count": null,
   "id": "c767cfbb",
   "metadata": {
    "slideshow": {
     "slide_type": "fragment"
    }
   },
   "outputs": [],
   "source": [
    "# Letters are case insensitive\n",
    "\n",
    "print(0B10) # Binary\n",
    "print(0O0) # Octal\n",
    "print(0Xfcba03) # Hexadecimal\n",
    "print(int('fcba03', base=16))\n",
    "print(int('0101', base=2))\n"
   ]
  },
  {
   "cell_type": "markdown",
   "id": "e700b1e5",
   "metadata": {
    "slideshow": {
     "slide_type": "slide"
    }
   },
   "source": [
    "#### Floats"
   ]
  },
  {
   "cell_type": "code",
   "execution_count": null,
   "id": "30db94c9",
   "metadata": {
    "slideshow": {
     "slide_type": "fragment"
    }
   },
   "outputs": [],
   "source": [
    "print(type(4.))\n",
    "print(type(4.0))\n",
    "\n",
    "# Supports scientific notation\n",
    "\n",
    "print(4.0E2)\n",
    "print(4.0E-3)"
   ]
  },
  {
   "cell_type": "markdown",
   "id": "fa6e3dc7",
   "metadata": {
    "slideshow": {
     "slide_type": "slide"
    }
   },
   "source": [
    "#### Arthimetic Operations"
   ]
  },
  {
   "cell_type": "code",
   "execution_count": null,
   "id": "a65a0e8d",
   "metadata": {
    "slideshow": {
     "slide_type": "fragment"
    }
   },
   "outputs": [],
   "source": [
    "x = 10\n",
    "y = 3\n",
    "\n",
    "print(f\"x + y = {x + y}\") # Addition\n",
    "print(f\"x - y = {x - y}\") # Subtraction\n",
    "print(f\"x * y = {x * y}\") # Multiplication\n",
    "print(f\"x / y = {x / y}\") # Division - note that it will automatically converts to float\n",
    "print(f\"x % y = {x % y}\") # Modulo, returns the remainder\n",
    "print(f\"x ** y = {x ** y}\") # Exponent\n",
    "print(f\"x // y = {x // y}\") # Floor division - rounds down the resulting division and converts to int"
   ]
  },
  {
   "cell_type": "markdown",
   "id": "97212e39",
   "metadata": {
    "slideshow": {
     "slide_type": "slide"
    }
   },
   "source": [
    "#### Arthimetic Assignment Operations"
   ]
  },
  {
   "cell_type": "code",
   "execution_count": null,
   "id": "75f45e48",
   "metadata": {
    "slideshow": {
     "slide_type": "fragment"
    }
   },
   "outputs": [],
   "source": [
    "a, b, c, d, e, f, g, h = [1 for _ in range(8)]\n",
    "y = 3\n",
    "\n",
    "a += y\n",
    "b -= y\n",
    "c *= y\n",
    "d /= y\n",
    "e %= y\n",
    "f **= y\n",
    "g //= y\n",
    "h += 1 # x++ is not valid\n",
    "\n",
    "print(f\"a = {a}, b = {b}, c = {c}, d = {d}, e = {e}, f = {f}, g = {g}, h = {h}\")"
   ]
  },
  {
   "cell_type": "markdown",
   "id": "23d48a74",
   "metadata": {
    "slideshow": {
     "slide_type": "slide"
    }
   },
   "source": [
    "#### Strings"
   ]
  },
  {
   "cell_type": "code",
   "execution_count": null,
   "id": "b1bd6d9f",
   "metadata": {
    "slideshow": {
     "slide_type": "fragment"
    }
   },
   "outputs": [],
   "source": [
    "my_name = \"Peter\"\n",
    "my_branch = 'HDSB' # Note that it can be single or double quotes\n",
    "hello_a = f\"Hello {my_name} and {my_branch}.\"\n",
    "hello_b = \"Hello \" + my_name + \" and \" + my_branch + \".\" # Alternate way of injecting variables in a string\n",
    "concatenated_string = my_name + your_name\n",
    "multi_line = '''\n",
    "Chapter 1:\n",
    "----------\n",
    "\n",
    "Once upon a time...\n",
    "'''\n",
    "\n",
    "print(my_name)\n",
    "print(hello_a)\n",
    "print(hello_b)\n",
    "print(concatenated_string)\n",
    "print(multi_line)"
   ]
  },
  {
   "cell_type": "markdown",
   "id": "efe6ef38",
   "metadata": {
    "slideshow": {
     "slide_type": "slide"
    }
   },
   "source": [
    "<center><h3>Escaping Values in Strings</h3></center>\n",
    "\n",
    "| Code        | Result      |\n",
    "| ----------- | ----------- |\n",
    "| \\\\'      | Single Quote       |\n",
    "| \\\\\"      | Double Quote       |\n",
    "| \\\\   | Backslash        |\n",
    "| \\n   | New Line        |\n",
    "| \\r   | Carriage Return        |\n",
    "| \\t   | Tab        |\n",
    "| \\b   | Backspace        |\n",
    "| \\f   | Form Feed        |\n",
    "| \\ooo   | Octal Value        |\n",
    "| \\xhh | Hex Value |"
   ]
  },
  {
   "cell_type": "code",
   "execution_count": null,
   "id": "1d0bbe13",
   "metadata": {
    "slideshow": {
     "slide_type": "slide"
    }
   },
   "outputs": [],
   "source": [
    "print(\"\\\"Hello!\\\", said the turtle.\")\n",
    "print('\\'Hello!\\', said the turtle.')\n",
    "print(\"\\\"Hello!\\\", \\nsaid the turtle.\")"
   ]
  },
  {
   "cell_type": "markdown",
   "id": "b2a6be31",
   "metadata": {
    "slideshow": {
     "slide_type": "slide"
    }
   },
   "source": [
    "#### Raw Strings Ignore Escape Sequences"
   ]
  },
  {
   "cell_type": "code",
   "execution_count": null,
   "id": "ca81ecc3",
   "metadata": {
    "slideshow": {
     "slide_type": "fragment"
    }
   },
   "outputs": [],
   "source": [
    "# Note that the R is case insensitive\n",
    "\n",
    "print(r\"\\\"Hello!\\\", said the turtle.\")\n",
    "print(r'\\'Hello!\\', said the turtle.')\n",
    "print(R\"\\n\\\"Hello!\\\", said the turtle.\")"
   ]
  },
  {
   "cell_type": "markdown",
   "id": "19fbf42e",
   "metadata": {
    "slideshow": {
     "slide_type": "slide"
    }
   },
   "source": [
    "#### Strings are lists, and therefore indexable"
   ]
  },
  {
   "cell_type": "code",
   "execution_count": null,
   "id": "f6465893",
   "metadata": {
    "slideshow": {
     "slide_type": "fragment"
    }
   },
   "outputs": [],
   "source": [
    "latin_alphabet = \"ABCDEFGHIJKLNMOPQRSTUVWXYZ\"\n",
    "\n",
    "print(latin_alphabet[0])\n",
    "print(latin_alphabet[-1])\n",
    "print(latin_alphabet[0:3])"
   ]
  },
  {
   "cell_type": "markdown",
   "id": "33ed609c",
   "metadata": {
    "slideshow": {
     "slide_type": "slide"
    }
   },
   "source": [
    "#### Breaking Up Long Strings"
   ]
  },
  {
   "cell_type": "code",
   "execution_count": null,
   "id": "fa9999f9",
   "metadata": {
    "slideshow": {
     "slide_type": "fragment"
    }
   },
   "outputs": [],
   "source": [
    "really_long_string = \"this is a really long string, it keeps going on and on \\\n",
    "and continues on this next line, but notice there's no line break \\\n",
    "the backslashes just let you break up really long strings onto multiple lines.\"\n",
    "\n",
    "print(really_long_string)\n",
    "\n",
    "# Can also be used to break up long lines of code\n",
    "print(\"hello\" \\\n",
    "       + \" world\")"
   ]
  },
  {
   "cell_type": "markdown",
   "id": "2a4d3a80",
   "metadata": {
    "slideshow": {
     "slide_type": "slide"
    }
   },
   "source": [
    "#### The in keyword used with strings"
   ]
  },
  {
   "cell_type": "code",
   "execution_count": null,
   "id": "b5155cb0",
   "metadata": {
    "slideshow": {
     "slide_type": "fragment"
    }
   },
   "outputs": [],
   "source": [
    "\"abc\" in \"0123abcdefg\""
   ]
  },
  {
   "cell_type": "markdown",
   "id": "4edb92a4",
   "metadata": {
    "slideshow": {
     "slide_type": "slide"
    }
   },
   "source": [
    "#### Regular Expressions"
   ]
  },
  {
   "cell_type": "code",
   "execution_count": null,
   "id": "0a9e0abb",
   "metadata": {
    "slideshow": {
     "slide_type": "fragment"
    }
   },
   "outputs": [],
   "source": [
    "import re\n",
    "\n",
    "regex_demo = \"Looking for stuff in between !exclamation marks! and there's more here !more!\"\n",
    "regex_code = \"!.*?!\"\n",
    "results = re.findall(regex_code, regex_demo)\n",
    "print(results)"
   ]
  },
  {
   "cell_type": "markdown",
   "id": "5619643e",
   "metadata": {
    "slideshow": {
     "slide_type": "slide"
    }
   },
   "source": [
    "<center><img src=\"./illustration_pngs/python_pythex.png\" width=\"100%\" /></center>"
   ]
  },
  {
   "cell_type": "markdown",
   "id": "93b8a09a",
   "metadata": {
    "slideshow": {
     "slide_type": "slide"
    }
   },
   "source": [
    "#### Booleans"
   ]
  },
  {
   "cell_type": "code",
   "execution_count": null,
   "id": "497911e9",
   "metadata": {
    "slideshow": {
     "slide_type": "fragment"
    }
   },
   "outputs": [],
   "source": [
    "bool_state_a = True\n",
    "bool_state_b = bool(False) # Can also be created with the bool class constructor\n",
    "\n",
    "bool_from_expression = 4 > 5\n",
    "print(bool_from_expression)"
   ]
  },
  {
   "cell_type": "markdown",
   "id": "c95d87f3",
   "metadata": {
    "slideshow": {
     "slide_type": "slide"
    }
   },
   "source": [
    "<center><h3>Lists</h3></center>"
   ]
  },
  {
   "cell_type": "markdown",
   "id": "dbd44cb8",
   "metadata": {
    "slideshow": {
     "slide_type": "slide"
    }
   },
   "source": [
    "<center><img src=\"./illustration_pngs/python_list.png\" width=\"100%\" /></center>"
   ]
  },
  {
   "cell_type": "code",
   "execution_count": null,
   "id": "1e2389d7",
   "metadata": {
    "slideshow": {
     "slide_type": "slide"
    }
   },
   "outputs": [],
   "source": [
    "# Lists can hold multiple types\n",
    "abc_123_pi = ['a', 'b', 'c', 1, 2, 3, 3.14159]\n",
    "print(abc_123_pi)\n",
    "print(len(abc_123_pi))"
   ]
  },
  {
   "cell_type": "code",
   "execution_count": null,
   "id": "5f06f59b",
   "metadata": {
    "slideshow": {
     "slide_type": "slide"
    }
   },
   "outputs": [],
   "source": [
    "# We can index into a list to get a value\n",
    "print(abc_123_pi[0])\n",
    "\n",
    "# To start at the end of a list, use negative numbers\n",
    "print(abc_123_pi[-1])"
   ]
  },
  {
   "cell_type": "code",
   "execution_count": null,
   "id": "ef774f46",
   "metadata": {
    "slideshow": {
     "slide_type": "slide"
    }
   },
   "outputs": [],
   "source": [
    "# Add to a list\n",
    "abc_123_pi.append('One more thing...')\n",
    "print(abc_123_pi)"
   ]
  },
  {
   "cell_type": "code",
   "execution_count": null,
   "id": "041fe419",
   "metadata": {
    "slideshow": {
     "slide_type": "slide"
    }
   },
   "outputs": [],
   "source": [
    "# Remove an item from a list\n",
    "\n",
    "abc_123_pi.remove('a')\n",
    "print(abc_123_pi)\n",
    "\n",
    "# Remove by index\n",
    "\n",
    "del abc_123_pi[-1]\n",
    "print(abc_123_pi)\n"
   ]
  },
  {
   "cell_type": "code",
   "execution_count": null,
   "id": "6242342d",
   "metadata": {
    "slideshow": {
     "slide_type": "slide"
    }
   },
   "outputs": [],
   "source": [
    "# Values it a list can be re-assigned via indexing\n",
    "\n",
    "abc_123_pi[0] = 'new value'\n",
    "print(abc_123_pi)"
   ]
  },
  {
   "cell_type": "code",
   "execution_count": null,
   "id": "bd544269",
   "metadata": {},
   "outputs": [],
   "source": [
    "# Lists can be concatinated with the + operator\n",
    "\n",
    "print([1, 2, 3] + [4, 5, 6])"
   ]
  },
  {
   "cell_type": "markdown",
   "id": "f89f6e6b",
   "metadata": {
    "slideshow": {
     "slide_type": "slide"
    }
   },
   "source": [
    "<center><h3>List Slicing</h3></center>"
   ]
  },
  {
   "cell_type": "markdown",
   "id": "028e54bc",
   "metadata": {
    "slideshow": {
     "slide_type": "slide"
    }
   },
   "source": [
    "<center><img src=\"./illustration_pngs/python_list_slicing.png\" width=\"100%\" /></center>"
   ]
  },
  {
   "cell_type": "code",
   "execution_count": null,
   "id": "5a64ca31",
   "metadata": {
    "slideshow": {
     "slide_type": "slide"
    }
   },
   "outputs": [],
   "source": [
    "vowels = list(\"AEIOUY\")\n",
    "print(vowels)\n",
    "print(f\"Example 1: {vowels[0:3]}\")\n",
    "print(f\"Example 2: {vowels[:3]}\")\n",
    "print(f\"Example 3: {vowels[:-1]}\")\n",
    "print(f\"Example 4: {vowels[:]}\")\n",
    "print(f\"Example 5: {vowels[::2]}\")\n",
    "print(f\"Example 6: {vowels[::-1]}\")"
   ]
  },
  {
   "cell_type": "markdown",
   "id": "00f14c6b",
   "metadata": {
    "slideshow": {
     "slide_type": "slide"
    }
   },
   "source": [
    "#### Lists Can Be Manipulated By Slices"
   ]
  },
  {
   "cell_type": "code",
   "execution_count": null,
   "id": "b817ae79",
   "metadata": {
    "slideshow": {
     "slide_type": "fragment"
    }
   },
   "outputs": [],
   "source": [
    "vowels = list(\"AEIOUY\")\n",
    "print(vowels)\n",
    "\n",
    "del vowels[:3]\n",
    "print(vowels)\n",
    "\n",
    "vowels[:2] = ['😀', '😀']\n",
    "print(vowels)"
   ]
  },
  {
   "cell_type": "markdown",
   "id": "d1acb04c",
   "metadata": {
    "slideshow": {
     "slide_type": "slide"
    }
   },
   "source": [
    "#### Lists Inside Lists 🤯"
   ]
  },
  {
   "cell_type": "code",
   "execution_count": null,
   "id": "0f216274",
   "metadata": {
    "slideshow": {
     "slide_type": "fragment"
    }
   },
   "outputs": [],
   "source": [
    "# 2D Matrix\n",
    "\n",
    "matrix_2D = [[1, 2, 3], \n",
    "             [4, 5, 6], \n",
    "             [7, 8, 9]]\n",
    "print(matrix_2D[2][2])"
   ]
  },
  {
   "cell_type": "code",
   "execution_count": null,
   "id": "69b0f7df",
   "metadata": {
    "slideshow": {
     "slide_type": "slide"
    }
   },
   "outputs": [],
   "source": [
    "# 3D Matrix\n",
    "\n",
    "matrix_3D = [\n",
    "    [\n",
    "        [\"A\", \"B\"],\n",
    "        [\"C\", \"D\"]\n",
    "    ],\n",
    "    [\n",
    "        [\"E\", \"F\"],\n",
    "        [\"G\", \"H\"]\n",
    "    ]\n",
    "]\n",
    "print(matrix_3D[0][0][0])"
   ]
  },
  {
   "cell_type": "markdown",
   "id": "5604af81",
   "metadata": {
    "slideshow": {
     "slide_type": "slide"
    }
   },
   "source": [
    "#### The in keyword used with lists"
   ]
  },
  {
   "cell_type": "code",
   "execution_count": null,
   "id": "b080a16e",
   "metadata": {
    "slideshow": {
     "slide_type": "fragment"
    }
   },
   "outputs": [],
   "source": [
    "print(1 in [1, 2, 3])\n",
    "print('jkl' in ['abc', 'def', 'ghi'])"
   ]
  },
  {
   "cell_type": "markdown",
   "id": "53f56db5",
   "metadata": {
    "slideshow": {
     "slide_type": "slide"
    }
   },
   "source": [
    "#### List Comprehension"
   ]
  },
  {
   "cell_type": "code",
   "execution_count": null,
   "id": "d0f1eebb",
   "metadata": {
    "slideshow": {
     "slide_type": "fragment"
    }
   },
   "outputs": [],
   "source": [
    "# Allows you to create a list from an expression applied to another list\n",
    "\n",
    "[x ** 2 for x in [1,2,3]]"
   ]
  },
  {
   "cell_type": "code",
   "execution_count": null,
   "id": "c4a0abdb",
   "metadata": {
    "slideshow": {
     "slide_type": "slide"
    }
   },
   "outputs": [],
   "source": [
    "%%timeit\n",
    "# Not just syntatic sugar - comprehensions are faster!\n",
    "\n",
    "one_hundred_k = [1 for _ in range(100_000)]"
   ]
  },
  {
   "cell_type": "code",
   "execution_count": null,
   "id": "835bd98c",
   "metadata": {
    "slideshow": {
     "slide_type": "fragment"
    }
   },
   "outputs": [],
   "source": [
    "%%timeit\n",
    "one_hundred_k = []\n",
    "for _ in range(100_000):\n",
    "    one_million.append(1)"
   ]
  },
  {
   "cell_type": "markdown",
   "id": "9319689f",
   "metadata": {
    "slideshow": {
     "slide_type": "slide"
    }
   },
   "source": [
    "<center><h3>Dictionaries</h3></center>"
   ]
  },
  {
   "cell_type": "markdown",
   "id": "114a2e90",
   "metadata": {
    "slideshow": {
     "slide_type": "slide"
    }
   },
   "source": [
    "<center><img src=\"./illustration_pngs/python_dict.png\" width=\"100%\" /></center>"
   ]
  },
  {
   "cell_type": "code",
   "execution_count": null,
   "id": "ccacfd7b",
   "metadata": {
    "slideshow": {
     "slide_type": "slide"
    }
   },
   "outputs": [],
   "source": [
    "scores = {'US': 10, 'UK': 5} # Keys and values can be of any type and a mix of types\n",
    "scores = {\n",
    "    'US': 10, \n",
    "    'UK': 5\n",
    "}\n",
    "print(scores['US']) # Index using a key to get the value\n",
    "print(scores.keys())\n",
    "print(scores.values())\n",
    "print(scores.items()) # Also known as key value pairs"
   ]
  },
  {
   "cell_type": "code",
   "execution_count": null,
   "id": "302daf7d",
   "metadata": {
    "slideshow": {
     "slide_type": "slide"
    }
   },
   "outputs": [],
   "source": [
    "scores['CA'] = 7 # Add new entries by defining a new key and assigning a value\n",
    "print(scores)\n",
    "\n",
    "scores['CA'] = 6 # Keys are unique, assign a value to an exisiting key, it will update not add\n",
    "print(scores)\n",
    "\n",
    "del scores['CA'] # Delete items with the del keyword\n",
    "print(scores)\n",
    "\n",
    "print(len(scores)) # Built-in len method will measure it's length"
   ]
  },
  {
   "cell_type": "markdown",
   "id": "a413bbe1",
   "metadata": {
    "slideshow": {
     "slide_type": "slide"
    }
   },
   "source": [
    "#### Tuples"
   ]
  },
  {
   "cell_type": "code",
   "execution_count": null,
   "id": "ef50434e",
   "metadata": {
    "slideshow": {
     "slide_type": "fragment"
    }
   },
   "outputs": [],
   "source": [
    "city_info = ('Toronto', 43.6532, 79.3832) # Tuples are ordered and unchangeable after creation\n",
    "print(city_info[0]) # Same as indexing into a list\n",
    "print(len(city_info))\n",
    "\n",
    "fridge_contents = ('banana', 'banana', 'plum', 'orange') # May contain duplicates\n",
    "print(fridge_contents)"
   ]
  },
  {
   "cell_type": "code",
   "execution_count": null,
   "id": "200fc3c6",
   "metadata": {
    "slideshow": {
     "slide_type": "slide"
    }
   },
   "outputs": [],
   "source": [
    "city_info[0] = 'Scarborough'"
   ]
  },
  {
   "cell_type": "code",
   "execution_count": null,
   "id": "1439893c",
   "metadata": {
    "slideshow": {
     "slide_type": "fragment"
    }
   },
   "outputs": [],
   "source": [
    "del city_info[0]"
   ]
  },
  {
   "cell_type": "code",
   "execution_count": null,
   "id": "0f962b7f",
   "metadata": {},
   "outputs": [],
   "source": [
    "# Can also be defined without the parantheses\n",
    "\n",
    "my_tuple = 1, 2, 3\n",
    "type(my_tuple)"
   ]
  },
  {
   "cell_type": "markdown",
   "id": "a440b04f",
   "metadata": {
    "slideshow": {
     "slide_type": "slide"
    }
   },
   "source": [
    "#### Sets"
   ]
  },
  {
   "cell_type": "code",
   "execution_count": null,
   "id": "5d594710",
   "metadata": {
    "slideshow": {
     "slide_type": "fragment"
    }
   },
   "outputs": [],
   "source": [
    "numbers_a = {1,2,3} # Unordered list, can be updated, cannot contain duplicates\n",
    "print(numbers_a)\n",
    "\n",
    "numbers_a.add(1) # Trying to add a duplicate won't work\n",
    "print(numbers_a)\n",
    "\n",
    "numbers_a.remove(3) # Pass in the value we want to remove\n",
    "print(numbers_a)"
   ]
  },
  {
   "cell_type": "code",
   "execution_count": null,
   "id": "c88a2cdf",
   "metadata": {
    "slideshow": {
     "slide_type": "slide"
    }
   },
   "outputs": [],
   "source": [
    "# Sets support a variety of set operations\n",
    "numbers_a = {1,2,3}\n",
    "numbers_b = {2,3,4,5,6,7}\n",
    "\n",
    "print(f\"Intersection: {numbers_a.intersection(numbers_b)}\")\n",
    "print(f\"Difference: {numbers_a.difference(numbers_b)}\")\n",
    "print(f\"Symmetric Difference: {numbers_a.symmetric_difference(numbers_b)}\")\n",
    "print(f\"Union: {numbers_a.union(numbers_b)}\")"
   ]
  },
  {
   "cell_type": "code",
   "execution_count": null,
   "id": "3f450527",
   "metadata": {
    "slideshow": {
     "slide_type": "slide"
    }
   },
   "outputs": [],
   "source": [
    "# Example use case\n",
    "\n",
    "names_with_duplicates = [\"Adi\", \"Shengli\", \"Shengli\", \"Kirsne\", \"Kamil\", \"Kamil\", \"Ching\"]\n",
    "unique_names = {name for name in names_with_duplicates} # Note that you can make a set with a comprehension\n",
    "print(unique_names)"
   ]
  },
  {
   "cell_type": "markdown",
   "id": "ba3a9f27",
   "metadata": {
    "slideshow": {
     "slide_type": "slide"
    }
   },
   "source": [
    "#### None"
   ]
  },
  {
   "cell_type": "code",
   "execution_count": null,
   "id": "1b206cfe",
   "metadata": {
    "slideshow": {
     "slide_type": "fragment"
    }
   },
   "outputs": [],
   "source": [
    "# Used when there is an absence of value\n",
    "x = None # Often used to initialize a variable if the value isn't currently known\n",
    "# Stuff happens, and we know the value of x\n",
    "x = 10\n",
    "\n",
    "print(bool(None)) # Evalutes to false in a boolean expression\n"
   ]
  },
  {
   "cell_type": "markdown",
   "id": "b49f3ba2",
   "metadata": {
    "slideshow": {
     "slide_type": "slide"
    }
   },
   "source": [
    "<center><h3>Built-in Functions</h3></center>"
   ]
  },
  {
   "cell_type": "markdown",
   "id": "8cd555ed",
   "metadata": {
    "slideshow": {
     "slide_type": "slide"
    }
   },
   "source": [
    "<center><img src=\"./illustration_pngs/python_built_in_functions.png\" width=\"100%\" /></center>"
   ]
  },
  {
   "cell_type": "code",
   "execution_count": null,
   "id": "a53e20f3",
   "metadata": {
    "slideshow": {
     "slide_type": "slide"
    }
   },
   "outputs": [],
   "source": [
    "abs(-10)"
   ]
  },
  {
   "cell_type": "code",
   "execution_count": null,
   "id": "42223dcf",
   "metadata": {
    "slideshow": {
     "slide_type": "slide"
    }
   },
   "outputs": [],
   "source": [
    "all([True, True, True])"
   ]
  },
  {
   "cell_type": "code",
   "execution_count": null,
   "id": "f1894b35",
   "metadata": {
    "slideshow": {
     "slide_type": "slide"
    }
   },
   "outputs": [],
   "source": [
    "any([True, False, False])"
   ]
  },
  {
   "cell_type": "code",
   "execution_count": null,
   "id": "2a1093fd",
   "metadata": {
    "slideshow": {
     "slide_type": "slide"
    }
   },
   "outputs": [],
   "source": [
    "some_str = \"Hello world!\"\n",
    "print(dir(some_str))"
   ]
  },
  {
   "cell_type": "code",
   "execution_count": null,
   "id": "e2238466",
   "metadata": {
    "slideshow": {
     "slide_type": "slide"
    }
   },
   "outputs": [],
   "source": [
    "first_five_letters = [\"a\", \"b\", \"c\", \"d\", \"e\"]\n",
    "list(enumerate(first_five_letters))"
   ]
  },
  {
   "cell_type": "code",
   "execution_count": null,
   "id": "1764a3ba",
   "metadata": {
    "slideshow": {
     "slide_type": "slide"
    }
   },
   "outputs": [],
   "source": [
    "for index, value in enumerate(first_five_letters):\n",
    "    print(f\"index: {index}, value: {value}\")    "
   ]
  },
  {
   "cell_type": "code",
   "execution_count": null,
   "id": "799daa24",
   "metadata": {
    "slideshow": {
     "slide_type": "slide"
    }
   },
   "outputs": [],
   "source": [
    "numbers = [1, 2, 3, 1, 1, 2]\n",
    "list(filter(lambda x: x == 1, numbers))"
   ]
  },
  {
   "cell_type": "code",
   "execution_count": null,
   "id": "78d43eb3",
   "metadata": {
    "slideshow": {
     "slide_type": "slide"
    }
   },
   "outputs": [],
   "source": [
    "name = input(\"What's your name? \")\n",
    "print(f\"Hello {name}!\")"
   ]
  },
  {
   "cell_type": "code",
   "execution_count": null,
   "id": "08bc335f",
   "metadata": {
    "slideshow": {
     "slide_type": "slide"
    }
   },
   "outputs": [],
   "source": [
    "print(max(10,20))\n",
    "print(max([1,2,3,4,5]))\n",
    "print(min(10,20))\n",
    "print(min([1,2,3,4,5]))"
   ]
  },
  {
   "cell_type": "code",
   "execution_count": null,
   "id": "306a6ca8",
   "metadata": {
    "slideshow": {
     "slide_type": "slide"
    }
   },
   "outputs": [],
   "source": [
    "open(\"test.txt\", 'r').readlines()"
   ]
  },
  {
   "cell_type": "code",
   "execution_count": null,
   "id": "5f3de7f1",
   "metadata": {
    "slideshow": {
     "slide_type": "slide"
    }
   },
   "outputs": [],
   "source": [
    "print(list(range(10)))\n",
    "print(list(range(0, 10, 2)))\n",
    "print(list(reversed(range(10))))"
   ]
  },
  {
   "cell_type": "code",
   "execution_count": null,
   "id": "7aa2be6a",
   "metadata": {
    "slideshow": {
     "slide_type": "slide"
    }
   },
   "outputs": [],
   "source": [
    "lats = [43.6532, 45.3242, 47.2321]\n",
    "longs = [79.3832, 81.2123, 83.2346, 82.9536]\n",
    "list(zip(lats, longs))"
   ]
  },
  {
   "cell_type": "markdown",
   "id": "ceab4843",
   "metadata": {
    "slideshow": {
     "slide_type": "slide"
    }
   },
   "source": [
    "<center><h3>PEP-8 Naming Convention Summary</h3></center>\n",
    "\n",
    "| Type\t| Naming Convention | Examples |\n",
    "| :---  | :---------------- | :------- |\n",
    "| Function | Use a lowercase word or words. Separate words by underscores to improve readability. | function, my_function |\n",
    "| Variable | Use a lowercase single letter, word, or words. Separate words with underscores to improve readability. | x, var, my_variable |\n",
    "| Class    | Start each word with a capital letter. Do not separate words with underscores. This style is called camel case or pascal case. | Model, MyClass |\n",
    "| Method   | Use a lowercase word or words. Separate words with underscores to improve readability. | class_method, method |\n",
    "| Constant | Use an uppercase single letter, word, or words. Separate words with underscores to improve readability. | CONSTANT, MY_CONSTANT, MY_LONG_CONSTANT |\n",
    "| Module   | Use a short, lowercase word or words. Separate words with underscores to improve readability. | module.py, my_module.py |\n",
    "| Package  | Use a short, lowercase word or words. Do not separate words with underscores. | package, mypackage |"
   ]
  }
 ],
 "metadata": {
  "celltoolbar": "Slideshow",
  "kernelspec": {
   "display_name": "Python 3 (ipykernel)",
   "language": "python",
   "name": "python3"
  },
  "language_info": {
   "codemirror_mode": {
    "name": "ipython",
    "version": 3
   },
   "file_extension": ".py",
   "mimetype": "text/x-python",
   "name": "python",
   "nbconvert_exporter": "python",
   "pygments_lexer": "ipython3",
   "version": "3.8.5"
  }
 },
 "nbformat": 4,
 "nbformat_minor": 5
}
